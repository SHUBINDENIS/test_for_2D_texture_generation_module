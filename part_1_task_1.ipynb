{
  "metadata": {
    "kernelspec": {
      "name": "python",
      "display_name": "Python (Pyodide)",
      "language": "python"
    },
    "language_info": {
      "codemirror_mode": {
        "name": "python",
        "version": 3
      },
      "file_extension": ".py",
      "mimetype": "text/x-python",
      "name": "python",
      "nbconvert_exporter": "python",
      "pygments_lexer": "ipython3",
      "version": "3.8"
    },
    "colab": {
      "provenance": []
    }
  },
  "nbformat_minor": 0,
  "nbformat": 4,
  "cells": [
    {
      "cell_type": "markdown",
      "source": [
        "  Задача №1.\n",
        "\n",
        "Дана строка s. Найдите длину самой длинной подстроки без повторяющихся символов."
      ],
      "metadata": {
        "id": "6pVsyYST2fvS"
      }
    },
    {
      "cell_type": "code",
      "source": [
        "def length_of_longest_substring(s):\n",
        "    char_index_map = {}\n",
        "    max_length = 0\n",
        "    start = 0\n",
        "\n",
        "    for end in range(len(s)):\n",
        "        if s[end] in char_index_map:\n",
        "            start = max(start, char_index_map[s[end]] + 1)\n",
        "        char_index_map[s[end]] = end\n",
        "        max_length = max(max_length, end - start + 1)\n",
        "\n",
        "    return max_length\n",
        "\n",
        "\n",
        "# Тесты\n",
        "print(length_of_longest_substring(\"\"))\n",
        "print(length_of_longest_substring(\"a\"))\n",
        "print(length_of_longest_substring(\"aaaa\"))\n",
        "print(length_of_longest_substring(\"abcdef\"))\n",
        "print(length_of_longest_substring(\"aabchbad\"))\n",
        "print(length_of_longest_substring(\"abcaefghijb\"))"
      ],
      "metadata": {
        "trusted": true,
        "id": "ICv1BSzv2ceJ",
        "outputId": "42e4db6b-a494-4433-d1a8-d752a82a75ff"
      },
      "outputs": [
        {
          "execution_count": 5,
          "output_type": "execute_result",
          "data": {
            "text/plain": "9"
          },
          "metadata": {}
        }
      ],
      "execution_count": null
    },
    {
      "cell_type": "markdown",
      "source": [
        "Набор тестов, покрывающих все возможные краевые случаи:\n",
        "\n",
        "1. Пустая строка: s = \"\"\n",
        "\n",
        "Ожидаемый результат: 0\n",
        "\n",
        "\n",
        "2. Строка с одним символом: s = \"a\"\n",
        "\n",
        "Ожидаемый результат: 1\n",
        "\n",
        "\n",
        "3. Строка из одинаковых символов: s = \"aaaa\"\n",
        "\n",
        "Ожидаемый результат: 1\n",
        "\n",
        "\n",
        "4. Строка с уже уникальными символами: s = \"abcdef\"\n",
        "\n",
        "Ожидаемый результат: 6\n",
        "\n",
        "\n",
        "5. Общепринятый случай: s = \"aabchbad\"\n",
        "\n",
        "Ожидаемый результат: 5 (\"bchad\")\n",
        "\n",
        "\n",
        "6. Повторы в начале и конце: s = \"abcaefghijb\"\n",
        "\n",
        "Ожидаемый результат: 9 (\"bcaefghij\" или \"caefghijb\")"
      ],
      "metadata": {
        "id": "bzxVj1FN2qRs"
      }
    },
    {
      "cell_type": "markdown",
      "source": [
        "  Алгоритмическая сложность\n",
        "\n",
        "Временная сложность: O(n), где n — длина строки. Каждый символ обрабатывается один раз в худшем случае благодаря использованию хэш-таблицы.\n",
        "\n",
        "Пространственная сложность: O(m), где m <= n — размер алфавита (количество уникальных символов). Требуется хранить последние вхождения символов."
      ],
      "metadata": {
        "id": "m8EqlYYW2_XS"
      }
    },
    {
      "cell_type": "markdown",
      "source": [
        "  Комментарий\n",
        "  \n",
        "Если алфавит ограничен заранее, можно использовать массив из фиксированной длины вместо хэш-таблицы."
      ],
      "metadata": {
        "id": "F3sb6c-w3EmF"
      }
    }
  ]
}