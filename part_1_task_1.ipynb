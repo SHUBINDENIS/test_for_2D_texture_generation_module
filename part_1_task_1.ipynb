{
  "metadata": {
    "kernelspec": {
      "name": "python",
      "display_name": "Python (Pyodide)",
      "language": "python"
    },
    "language_info": {
      "codemirror_mode": {
        "name": "python",
        "version": 3
      },
      "file_extension": ".py",
      "mimetype": "text/x-python",
      "name": "python",
      "nbconvert_exporter": "python",
      "pygments_lexer": "ipython3",
      "version": "3.8"
    }
  },
  "nbformat_minor": 4,
  "nbformat": 4,
  "cells": [
    {
      "cell_type": "raw",
      "source": "    Задача №1.\nДана строка s. Найдите длину самой длинной подстроки без повторяющихся символов.",
      "metadata": {}
    },
    {
      "cell_type": "code",
      "source": "def length_of_longest_substring(s):\n    char_index_map = {}\n    max_length = 0\n    start = 0\n\n    for end in range(len(s)):\n        if s[end] in char_index_map:\n            start = max(start, char_index_map[s[end]] + 1)\n        char_index_map[s[end]] = end\n        max_length = max(max_length, end - start + 1)\n\n    return max_length\n\n\n# Тесты\nprint(length_of_longest_substring(\"\"))\nprint(length_of_longest_substring(\"a\"))\nprint(length_of_longest_substring(\"aaaa\"))\nprint(length_of_longest_substring(\"abcdef\"))\nprint(length_of_longest_substring(\"aabchbad\"))\nprint(length_of_longest_substring(\"abcaefghijb\"))",
      "metadata": {
        "trusted": true
      },
      "outputs": [
        {
          "execution_count": 5,
          "output_type": "execute_result",
          "data": {
            "text/plain": "9"
          },
          "metadata": {}
        }
      ],
      "execution_count": 5
    },
    {
      "cell_type": "raw",
      "source": "    Набор тестов, покрывающих все возможные краевые случаи:\n\nПустая строка: s = \"\"\nОжидаемый результат: 0\n\nСтрока с одним символом: s = \"a\"\nОжидаемый результат: 1\n\nСтрока из одинаковых символов: s = \"aaaa\"\nОжидаемый результат: 1\n\nСтрока с уже уникальными символами: s = \"abcdef\"\nОжидаемый результат: 6\n\nОбщепринятый случай: s = \"aabchbad\"\nОжидаемый результат: 5 (\"bchad\")\n\nПовторы в начале и конце: s = \"abcaefghijb\"\nОжидаемый результат: 9 (\"bcaefghij\" или \"caefghijb\")",
      "metadata": {}
    },
    {
      "cell_type": "raw",
      "source": "    Алгоритмическая сложность\nВременная сложность: O(n), где n — длина строки. Каждый символ обрабатывается один раз в худшем случае благодаря использованию хэш-таблицы.\nПространственная сложность: O(m), где m <= n — размер алфавита (количество уникальных символов). Требуется хранить последние вхождения символов.",
      "metadata": {}
    },
    {
      "cell_type": "raw",
      "source": "    Комментарий\nЕсли алфавит ограничен заранее, можно использовать массив из фиксированной длины вместо хэш-таблицы.",
      "metadata": {}
    }
  ]
}