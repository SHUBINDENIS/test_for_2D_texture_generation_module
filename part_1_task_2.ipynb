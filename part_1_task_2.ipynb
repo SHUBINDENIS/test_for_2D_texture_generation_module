{
  "metadata": {
    "kernelspec": {
      "name": "python",
      "display_name": "Python (Pyodide)",
      "language": "python"
    },
    "language_info": {
      "codemirror_mode": {
        "name": "python",
        "version": 3
      },
      "file_extension": ".py",
      "mimetype": "text/x-python",
      "name": "python",
      "nbconvert_exporter": "python",
      "pygments_lexer": "ipython3",
      "version": "3.8"
    }
  },
  "nbformat_minor": 4,
  "nbformat": 4,
  "cells": [
    {
      "cell_type": "raw",
      "source": "    Задача №2\nВы поднимаетесь по лестнице. Чтобы добраться до самого верха, вам необходимо пройти n ступеней. Каждый раз, вы можете подняться либо на 1 ступеньку, либо на 2. Как много различных способов подняться на самый верх у вас есть?",
      "metadata": {}
    },
    {
      "cell_type": "code",
      "source": "def climb_stairs(n):\n    if n <= 2:\n        return n\n    \n    first, second = 1, 2\n    \n    for i in range(3, n + 1):\n        first, second = second, first + second\n        \n    return second\n\n# Тесты\nprint(climb_stairs(0))\nprint(climb_stairs(1))\nprint(climb_stairs(2))\nprint(climb_stairs(3))\nprint(climb_stairs(50))",
      "metadata": {
        "trusted": true
      },
      "outputs": [
        {
          "name": "stdout",
          "text": "0\n1\n2\n3\n20365011074\n",
          "output_type": "stream"
        }
      ],
      "execution_count": 2
    },
    {
      "cell_type": "code",
      "source": "    Набор тестов, покрывающих все возможные краевые случаи:\n\nКраевой случай с 0 ступенями: n = 0\nОжидаемый результат: 0\n\nКраевой случай с 1 ступенью: n = 1\nОжидаемый результат: 1\n\nКраевой случай с 2 ступенями: n = 2\nОжидаемый результат: 2\n\nОбычный случай: n = 3\nОжидаемый результат: 3\n\nСлучай с большим количеством ступеней: n = 50\nОжидаемый результат: 20365011074\nВзял число с сайта: https://geleot.ru/education/math/analytic_geometry/other/Fibonacci_number",
      "metadata": {
        "trusted": true
      },
      "outputs": [],
      "execution_count": null
    },
    {
      "cell_type": "raw",
      "source": "    Алгоритмическая сложность\nВременная сложность: O(n). Используем один цикл.\nПространственная сложность: O(1). Используем только две переменные для хранения чисел.",
      "metadata": {}
    },
    {
      "cell_type": "code",
      "source": "    Комментарий\nЕсли бы понадобились повторные вычисления для различных значений n внутри одного приложения, \nприменение мемоизации или динамического программирования с кэшированием результатов могло бы улучшить производительность.",
      "metadata": {
        "trusted": true
      },
      "outputs": [],
      "execution_count": null
    }
  ]
}