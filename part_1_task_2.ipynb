{
  "metadata": {
    "kernelspec": {
      "name": "python",
      "display_name": "Python (Pyodide)",
      "language": "python"
    },
    "language_info": {
      "codemirror_mode": {
        "name": "python",
        "version": 3
      },
      "file_extension": ".py",
      "mimetype": "text/x-python",
      "name": "python",
      "nbconvert_exporter": "python",
      "pygments_lexer": "ipython3",
      "version": "3.8"
    },
    "colab": {
      "provenance": []
    }
  },
  "nbformat_minor": 0,
  "nbformat": 4,
  "cells": [
    {
      "cell_type": "markdown",
      "source": [
        "  Задача №2\n",
        "  \n",
        "Вы поднимаетесь по лестнице. Чтобы добраться до самого верха, вам необходимо пройти n ступеней. Каждый раз, вы можете подняться либо на 1 ступеньку, либо на 2. Как много различных способов подняться на самый верх у вас есть?"
      ],
      "metadata": {
        "id": "LJJsENr63bs4"
      }
    },
    {
      "cell_type": "code",
      "source": [
        "def climb_stairs(n):\n",
        "    if n <= 2:\n",
        "        return n\n",
        "\n",
        "    first, second = 1, 2\n",
        "\n",
        "    for i in range(3, n + 1):\n",
        "        first, second = second, first + second\n",
        "\n",
        "    return second\n",
        "\n",
        "# Тесты\n",
        "print(climb_stairs(0))\n",
        "print(climb_stairs(1))\n",
        "print(climb_stairs(2))\n",
        "print(climb_stairs(3))\n",
        "print(climb_stairs(50))"
      ],
      "metadata": {
        "trusted": true,
        "id": "T1NfllgK3Zok",
        "outputId": "17299424-7e46-45f4-c9d6-b8f86d9b1e17"
      },
      "outputs": [
        {
          "name": "stdout",
          "text": "0\n1\n2\n3\n20365011074\n",
          "output_type": "stream"
        }
      ],
      "execution_count": null
    },
    {
      "cell_type": "markdown",
      "source": [
        "  Набор тестов, покрывающих все возможные краевые случаи:\n",
        "\n",
        "Краевой случай с 0 ступенями: n = 0\n",
        "\n",
        "Ожидаемый результат: 0\n",
        "\n",
        "\n",
        "Краевой случай с 1 ступенью: n = 1\n",
        "\n",
        "Ожидаемый результат: 1\n",
        "\n",
        "\n",
        "Краевой случай с 2 ступенями: n = 2\n",
        "\n",
        "Ожидаемый результат: 2\n",
        "\n",
        "\n",
        "Обычный случай: n = 3\n",
        "\n",
        "Ожидаемый результат: 3\n",
        "\n",
        "\n",
        "Случай с большим количеством ступеней: n = 50\n",
        "\n",
        "Ожидаемый результат: 20365011074\n",
        "\n",
        "Для проверки взял число с сайта (ввёл 51, так как последовательность начинается с 0): https://geleot.ru/education/math/analytic_geometry/other/Fibonacci_number"
      ],
      "metadata": {
        "id": "I7E713rs3hsC"
      }
    },
    {
      "cell_type": "markdown",
      "source": [
        "  Алгоритмическая сложность\n",
        "\n",
        "Временная сложность: O(n). Используем один цикл.\n",
        "\n",
        "Пространственная сложность: O(1). Используем только две переменные для хранения чисел."
      ],
      "metadata": {
        "id": "vnpDuquC3zAH"
      }
    },
    {
      "cell_type": "markdown",
      "source": [
        "  Комментарий\n",
        "  \n",
        "Если бы понадобились повторные вычисления для различных значений n внутри одного приложения,\n",
        "применение мемоизации или динамического программирования с кэшированием результатов могло бы улучшить производительность."
      ],
      "metadata": {
        "id": "TiolBEV33141"
      }
    }
  ]
}