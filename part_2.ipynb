{
  "nbformat": 4,
  "nbformat_minor": 0,
  "metadata": {
    "colab": {
      "provenance": []
    },
    "kernelspec": {
      "name": "python3",
      "display_name": "Python 3"
    },
    "language_info": {
      "name": "python"
    }
  },
  "cells": [
    {
      "cell_type": "markdown",
      "source": [
        "Программа создаёт нейросеть, позволяющую по изображению определять тип одежды на картинке. У меня не было документации, как должна работать программа, поэтому я минимально исправил код и теперь в конце выводится совместный график обучения и валидации модели. Далее я сделал комментарии как работает программа и что я исправил."
      ],
      "metadata": {
        "id": "GYqhXODlpesh"
      }
    },
    {
      "cell_type": "markdown",
      "source": [
        "Так как в Google Colab изначально не установлена torchviz, то скачиваем её."
      ],
      "metadata": {
        "id": "8oJqDHi1p27E"
      }
    },
    {
      "cell_type": "code",
      "source": [
        "!pip install torchviz"
      ],
      "metadata": {
        "id": "qj_nTH23qYWf",
        "colab": {
          "base_uri": "https://localhost:8080/"
        },
        "outputId": "ab11477d-f368-4395-a820-8c8b76c649af"
      },
      "execution_count": 1,
      "outputs": [
        {
          "output_type": "stream",
          "name": "stdout",
          "text": [
            "Collecting torchviz\n",
            "  Downloading torchviz-0.0.2.tar.gz (4.9 kB)\n",
            "  Preparing metadata (setup.py) ... \u001b[?25l\u001b[?25hdone\n",
            "Requirement already satisfied: torch in /usr/local/lib/python3.10/dist-packages (from torchviz) (2.4.1+cu121)\n",
            "Requirement already satisfied: graphviz in /usr/local/lib/python3.10/dist-packages (from torchviz) (0.20.3)\n",
            "Requirement already satisfied: filelock in /usr/local/lib/python3.10/dist-packages (from torch->torchviz) (3.16.1)\n",
            "Requirement already satisfied: typing-extensions>=4.8.0 in /usr/local/lib/python3.10/dist-packages (from torch->torchviz) (4.12.2)\n",
            "Requirement already satisfied: sympy in /usr/local/lib/python3.10/dist-packages (from torch->torchviz) (1.13.3)\n",
            "Requirement already satisfied: networkx in /usr/local/lib/python3.10/dist-packages (from torch->torchviz) (3.3)\n",
            "Requirement already satisfied: jinja2 in /usr/local/lib/python3.10/dist-packages (from torch->torchviz) (3.1.4)\n",
            "Requirement already satisfied: fsspec in /usr/local/lib/python3.10/dist-packages (from torch->torchviz) (2024.6.1)\n",
            "Requirement already satisfied: MarkupSafe>=2.0 in /usr/local/lib/python3.10/dist-packages (from jinja2->torch->torchviz) (2.1.5)\n",
            "Requirement already satisfied: mpmath<1.4,>=1.1.0 in /usr/local/lib/python3.10/dist-packages (from sympy->torch->torchviz) (1.3.0)\n",
            "Building wheels for collected packages: torchviz\n",
            "  Building wheel for torchviz (setup.py) ... \u001b[?25l\u001b[?25hdone\n",
            "  Created wheel for torchviz: filename=torchviz-0.0.2-py3-none-any.whl size=4132 sha256=d1de7cf73a37d05f08221c921b06143ab4efe25a84e840c4916afd3c2e505f0d\n",
            "  Stored in directory: /root/.cache/pip/wheels/4c/97/88/a02973217949e0db0c9f4346d154085f4725f99c4f15a87094\n",
            "Successfully built torchviz\n",
            "Installing collected packages: torchviz\n",
            "Successfully installed torchviz-0.0.2\n"
          ]
        }
      ]
    },
    {
      "cell_type": "markdown",
      "source": [
        "Импортируем все нужные библиотеки."
      ],
      "metadata": {
        "id": "VzGxr2JtqJ-g"
      }
    },
    {
      "cell_type": "code",
      "source": [
        "import torch\n",
        "import torch.nn as nn\n",
        "from torch.utils.data import DataLoader, Dataset\n",
        "import torchvision\n",
        "import numpy as np\n",
        "from sklearn.model_selection import train_test_split\n",
        "import torchvision.transforms as transforms\n",
        "from tqdm import tqdm\n",
        "from torchviz import make_dot\n",
        "import matplotlib.pyplot as plt"
      ],
      "metadata": {
        "id": "cGbI46RX78DE"
      },
      "execution_count": 2,
      "outputs": []
    },
    {
      "cell_type": "markdown",
      "source": [
        "Загружаем набор данных FashionMNIST и преобразуем изображения в тензоры."
      ],
      "metadata": {
        "id": "KTGCEQLEqeyb"
      }
    },
    {
      "cell_type": "code",
      "source": [
        "transform = transforms.ToTensor()\n",
        "train_dataset = torchvision.datasets.FashionMNIST(root='./data', train=True, download=True, transform=transform)\n",
        "test_dataset = torchvision.datasets.FashionMNIST(root = \"./data\", train = False, download=True, transform=transform)"
      ],
      "metadata": {
        "id": "j8ZArIEV8U58",
        "colab": {
          "base_uri": "https://localhost:8080/"
        },
        "outputId": "60391b48-7a74-4d9e-e8ed-f220a5723f6e"
      },
      "execution_count": 3,
      "outputs": [
        {
          "output_type": "stream",
          "name": "stdout",
          "text": [
            "Downloading http://fashion-mnist.s3-website.eu-central-1.amazonaws.com/train-images-idx3-ubyte.gz\n",
            "Downloading http://fashion-mnist.s3-website.eu-central-1.amazonaws.com/train-images-idx3-ubyte.gz to ./data/FashionMNIST/raw/train-images-idx3-ubyte.gz\n"
          ]
        },
        {
          "output_type": "stream",
          "name": "stderr",
          "text": [
            "100%|██████████| 26421880/26421880 [00:10<00:00, 2532223.33it/s]\n"
          ]
        },
        {
          "output_type": "stream",
          "name": "stdout",
          "text": [
            "Extracting ./data/FashionMNIST/raw/train-images-idx3-ubyte.gz to ./data/FashionMNIST/raw\n",
            "\n",
            "Downloading http://fashion-mnist.s3-website.eu-central-1.amazonaws.com/train-labels-idx1-ubyte.gz\n",
            "Downloading http://fashion-mnist.s3-website.eu-central-1.amazonaws.com/train-labels-idx1-ubyte.gz to ./data/FashionMNIST/raw/train-labels-idx1-ubyte.gz\n"
          ]
        },
        {
          "output_type": "stream",
          "name": "stderr",
          "text": [
            "100%|██████████| 29515/29515 [00:00<00:00, 232452.46it/s]\n"
          ]
        },
        {
          "output_type": "stream",
          "name": "stdout",
          "text": [
            "Extracting ./data/FashionMNIST/raw/train-labels-idx1-ubyte.gz to ./data/FashionMNIST/raw\n",
            "\n",
            "Downloading http://fashion-mnist.s3-website.eu-central-1.amazonaws.com/t10k-images-idx3-ubyte.gz\n",
            "Downloading http://fashion-mnist.s3-website.eu-central-1.amazonaws.com/t10k-images-idx3-ubyte.gz to ./data/FashionMNIST/raw/t10k-images-idx3-ubyte.gz\n"
          ]
        },
        {
          "output_type": "stream",
          "name": "stderr",
          "text": [
            "100%|██████████| 4422102/4422102 [00:01<00:00, 4290068.70it/s]\n"
          ]
        },
        {
          "output_type": "stream",
          "name": "stdout",
          "text": [
            "Extracting ./data/FashionMNIST/raw/t10k-images-idx3-ubyte.gz to ./data/FashionMNIST/raw\n",
            "\n",
            "Downloading http://fashion-mnist.s3-website.eu-central-1.amazonaws.com/t10k-labels-idx1-ubyte.gz\n",
            "Downloading http://fashion-mnist.s3-website.eu-central-1.amazonaws.com/t10k-labels-idx1-ubyte.gz to ./data/FashionMNIST/raw/t10k-labels-idx1-ubyte.gz\n"
          ]
        },
        {
          "output_type": "stream",
          "name": "stderr",
          "text": [
            "100%|██████████| 5148/5148 [00:00<00:00, 4642502.04it/s]\n"
          ]
        },
        {
          "output_type": "stream",
          "name": "stdout",
          "text": [
            "Extracting ./data/FashionMNIST/raw/t10k-labels-idx1-ubyte.gz to ./data/FashionMNIST/raw\n",
            "\n"
          ]
        }
      ]
    },
    {
      "cell_type": "markdown",
      "source": [
        "Подготовливаем пакеты данных (батчи) перед обучением модели."
      ],
      "metadata": {
        "id": "Nc4L4C1_qlji"
      }
    },
    {
      "cell_type": "code",
      "source": [
        "batch_size = 64\n",
        "train_loader = DataLoader(train_dataset, batch_size=batch_size, shuffle=False)\n",
        "test_loader = DataLoader(test_dataset, batch_size=batch_size, shuffle=False)"
      ],
      "metadata": {
        "id": "nabOH-LS79ij"
      },
      "execution_count": 4,
      "outputs": []
    },
    {
      "cell_type": "markdown",
      "source": [
        "Извлекаем и анализируем первую порцию данных из обучающего и тестового наборов для понимания их структуры и формы."
      ],
      "metadata": {
        "id": "x8K1gN7Oq3Db"
      }
    },
    {
      "cell_type": "code",
      "source": [
        "train_item = next(iter(train_loader))\n",
        "test_item = next(iter(test_loader))\n",
        "len(train_item), len(test_item), train_item[0].shape, train_item[1].shape"
      ],
      "metadata": {
        "colab": {
          "base_uri": "https://localhost:8080/"
        },
        "id": "6lNf98Dr-Wpi",
        "outputId": "ed3f6f38-6225-48cf-8e96-306d3e302735"
      },
      "execution_count": 5,
      "outputs": [
        {
          "output_type": "execute_result",
          "data": {
            "text/plain": [
              "(2, 2, torch.Size([64, 1, 28, 28]), torch.Size([64]))"
            ]
          },
          "metadata": {},
          "execution_count": 5
        }
      ]
    },
    {
      "cell_type": "markdown",
      "source": [
        "Определяем класс нейронной сети NNModel, который наследуется от nn.Module из библиотеки PyTorch. Здесь нам необходимо убрать переопределение self.conv, оставив создание 2D-сверточного слой с ядром 1x1 и шагом 4."
      ],
      "metadata": {
        "id": "G6vmHuFQrAVQ"
      }
    },
    {
      "cell_type": "code",
      "source": [
        "class NNModel(nn.Module):\n",
        "    def __init__(self,\n",
        "                 layers_size = [49, 32, 16, 10],\n",
        "                 dropout_prob = 1.0\n",
        "                 ):\n",
        "        super().__init__()\n",
        "        self.conv = nn.Conv2d(1, 1, kernel_size = 1, stride = 4)\n",
        "        # self.conv = nn.Conv2d(1, 1, kernel_size = 1, stride = 1)\n",
        "        self.layers = [nn.Linear(layers_size[i], layers_size[i+1]) for i in range(len(layers_size)-1)]\n",
        "        self.norm = [nn.BatchNorm1d(inp_size, affine  = False) for inp_size in layers_size[1:-1]]\n",
        "        self.relu = nn.ReLU()\n",
        "        self.dropout = nn.Dropout(p=dropout_prob)\n",
        "\n",
        "    def forward(self, batch):\n",
        "        bs = batch.shape[0]\n",
        "        batch = self.conv(batch).reshape(bs, -1)\n",
        "\n",
        "        for i, layer in enumerate(self.layers):\n",
        "            if i < len(self.layers) -1:\n",
        "                batch = self.dropout(self.relu(self.norm[i](layer(batch))))\n",
        "            else:\n",
        "                batch = layer(batch)\n",
        "        return batch\n",
        "\n",
        "    def print_net(self):\n",
        "        print(self.conv)\n",
        "        for i, layer in enumerate(self.layers):\n",
        "            if i < len(self.layers) -1:\n",
        "                print(layer)\n",
        "                print(self.norm[i])\n",
        "                print(self.relu)\n",
        "                print(self.dropout)\n",
        "            else:\n",
        "                print(layer)\n",
        "\n",
        "        return"
      ],
      "metadata": {
        "id": "Wv21tbtXmEbW"
      },
      "execution_count": 6,
      "outputs": []
    },
    {
      "cell_type": "markdown",
      "source": [
        "Создаём модель, делающую предсказание для входного тензора, визуализируем архитектуру и выводим структуру сети в текстовом формате."
      ],
      "metadata": {
        "id": "KMnyWWX2rLeN"
      }
    },
    {
      "cell_type": "code",
      "source": [
        "mlp  = NNModel(dropout_prob = 0.1)\n",
        "\n",
        "predictions = mlp(train_item[0])\n",
        "make_dot(predictions, params=dict(mlp.named_parameters()))\n",
        "mlp.print_net()"
      ],
      "metadata": {
        "colab": {
          "base_uri": "https://localhost:8080/"
        },
        "id": "sD36MPJlp7m-",
        "outputId": "fbeeb26b-5585-4dd7-ab76-25384e756832"
      },
      "execution_count": 11,
      "outputs": [
        {
          "output_type": "stream",
          "name": "stdout",
          "text": [
            "Conv2d(1, 1, kernel_size=(1, 1), stride=(4, 4))\n",
            "Linear(in_features=49, out_features=32, bias=True)\n",
            "BatchNorm1d(32, eps=1e-05, momentum=0.1, affine=False, track_running_stats=True)\n",
            "ReLU()\n",
            "Dropout(p=0.1, inplace=False)\n",
            "Linear(in_features=32, out_features=16, bias=True)\n",
            "BatchNorm1d(16, eps=1e-05, momentum=0.1, affine=False, track_running_stats=True)\n",
            "ReLU()\n",
            "Dropout(p=0.1, inplace=False)\n",
            "Linear(in_features=16, out_features=10, bias=True)\n"
          ]
        }
      ]
    },
    {
      "cell_type": "markdown",
      "source": [
        "Процесса обучения и оценки модели.\n",
        "\n",
        "Использование одного батча для обучения и оценки: Существует только один батч train_item, что необычно для реальной ситуации. Я заменил в оценке батч train_item на test_item.\n",
        "\n",
        "Ошибки в оценочной части: В коде для оценки происходит обновление параметров, что неправильно. Нужно убрать вызовы loss.backward() и optimizer.step()."
      ],
      "metadata": {
        "id": "sczBd1Y6sX79"
      }
    },
    {
      "cell_type": "code",
      "execution_count": 14,
      "metadata": {
        "id": "VtgLUBij7FGM",
        "colab": {
          "base_uri": "https://localhost:8080/",
          "height": 430
        },
        "outputId": "f625016e-c1c8-451f-fedc-867174207d73"
      },
      "outputs": [
        {
          "output_type": "display_data",
          "data": {
            "text/plain": [
              "<Figure size 640x480 with 1 Axes>"
            ],
            "image/png": "[encoded data removed]"
          },
          "metadata": {}
        }
      ],
      "source": [
        "num_epochs = 1000\n",
        "DEBUG = False\n",
        "ce_loss = nn.CrossEntropyLoss()\n",
        "optimizer = torch.optim.Adam(mlp.parameters(), lr =  0.01)\n",
        "\n",
        "logger = {'train':[],\n",
        "          'eval' :[]\n",
        "          }\n",
        "for epoch in range(num_epochs):\n",
        "\n",
        "    epoch_stat = []\n",
        "\n",
        "    # train part\n",
        "    mlp.train()\n",
        "    for batch in [train_item]:\n",
        "\n",
        "        images, labels = batch\n",
        "        images, labels = images.float(), labels.long()\n",
        "        predictions = mlp(images)\n",
        "        loss = ce_loss(predictions, labels)\n",
        "        loss.backward()\n",
        "        optimizer.step()\n",
        "\n",
        "        epoch_stat.append(loss.item())\n",
        "\n",
        "    if DEBUG: print(f\"train loss value = {np.mean(epoch_stat)}\")\n",
        "    logger['train'].append(np.mean(epoch_stat))\n",
        "\n",
        "\n",
        "    # eval part\n",
        "    with torch.no_grad():\n",
        "\n",
        "        eval_stat = []\n",
        "        for batch in [test_item]:\n",
        "\n",
        "            images, labels = batch\n",
        "            images, labels = images.float(), labels.long()\n",
        "            predictions = mlp(images)\n",
        "            loss = ce_loss(predictions, labels)\n",
        "            # loss.backward()\n",
        "            # optimizer.step()\n",
        "\n",
        "            eval_stat.append(loss.item())\n",
        "    if DEBUG: print(f\"eval loss value = {np.mean(eval_stat)}\")\n",
        "    logger['eval'].append(np.mean(eval_stat))\n",
        "\n",
        "plt.plot(logger['train'], label='Train loss' )\n",
        "plt.plot(logger['eval'], label='Val loss')\n",
        "plt.legend()\n",
        "plt.show()"
      ]
    },
    {
      "cell_type": "code",
      "source": [
        "mlp"
      ],
      "metadata": {
        "colab": {
          "base_uri": "https://localhost:8080/"
        },
        "id": "kR5E4dNasv-e",
        "outputId": "ad7e7a16-0478-4fbb-c917-606223a06218"
      },
      "execution_count": 15,
      "outputs": [
        {
          "output_type": "execute_result",
          "data": {
            "text/plain": [
              "NNModel(\n",
              "  (conv): Conv2d(1, 1, kernel_size=(1, 1), stride=(4, 4))\n",
              "  (relu): ReLU()\n",
              "  (dropout): Dropout(p=0.1, inplace=False)\n",
              ")"
            ]
          },
          "metadata": {},
          "execution_count": 15
        }
      ]
    },
    {
      "cell_type": "code",
      "source": [
        "pytorch_total_params = sum(p.numel() for p in mlp.parameters())\n",
        "pytorch_total_params"
      ],
      "metadata": {
        "id": "3SknE_w6rB83",
        "colab": {
          "base_uri": "https://localhost:8080/"
        },
        "outputId": "81b64834-7d00-48d7-a917-ea345a588bb5"
      },
      "execution_count": 17,
      "outputs": [
        {
          "output_type": "execute_result",
          "data": {
            "text/plain": [
              "2"
            ]
          },
          "metadata": {},
          "execution_count": 17
        }
      ]
    }
  ]
}